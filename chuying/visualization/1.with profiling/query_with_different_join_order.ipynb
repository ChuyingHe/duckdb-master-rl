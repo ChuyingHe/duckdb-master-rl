{
 "cells": [
  {
   "cell_type": "markdown",
   "id": "available-special",
   "metadata": {},
   "source": [
    "# Functions & libs"
   ]
  },
  {
   "cell_type": "code",
   "execution_count": 51,
   "id": "verbal-reaction",
   "metadata": {},
   "outputs": [],
   "source": [
    "import os \n",
    "import duckdb_query_graph\n",
    "import json\n",
    "import csv\n",
    "import pandas as pd\n",
    "import numpy as np\n",
    "from IPython.display import display, HTML\n",
    "import matplotlib.pyplot as plt\n",
    "import math\n",
    "\n",
    "cwd = os.getcwd()"
   ]
  },
  {
   "cell_type": "code",
   "execution_count": 52,
   "id": "pursuant-calendar",
   "metadata": {},
   "outputs": [],
   "source": [
    "# function: clean the data\n",
    "# drop useless columns, rename column names, move 'job_query' column to the first, sort by 'job_query'\n",
    "def clean_df(df):\n",
    "    df = df.drop(['tree.name', 'tree.timing', 'tree.cardinality', 'tree.extra_info', 'tree.children'], axis = 1)\n",
    "    df.columns = df.columns.str.replace('[>]','.', regex=True)\n",
    "    df.columns = df.columns.str.replace('[ ]','', regex=True)\n",
    "    df = df[ ['job_query'] + [ col for col in df.columns if col != 'job_query' ] ]\n",
    "    df.sort_values(by = 'job_query')\n",
    "    return df"
   ]
  },
  {
   "cell_type": "code",
   "execution_count": 53,
   "id": "expected-collectible",
   "metadata": {},
   "outputs": [],
   "source": [
    "# function: load json files\n",
    "def read_json_from_dir(folder_dir, df):\n",
    "    count_json = 0 #initialize amount of json files\n",
    "    for file in os.listdir(folder_dir):\n",
    "        if file.endswith(\".json\"):\n",
    "            file_dir = folder_dir+'/'+file\n",
    "            with open(file_dir, 'r') as f:\n",
    "                count_json+=1\n",
    "                data = f.read()\n",
    "                data_df = pd.json_normalize(json.loads(data))\n",
    "                data_df['job_query'] = file\n",
    "                #print(type(data_df))\n",
    "                df = pd.concat([df,data_df], sort=False)\n",
    "    df = clean_df(df)\n",
    "    print(str(count_json) + \" json files have been loaded!\")\n",
    "    return df"
   ]
  },
  {
   "cell_type": "markdown",
   "id": "employed-consent",
   "metadata": {},
   "source": [
    "# Plot style"
   ]
  },
  {
   "cell_type": "code",
   "execution_count": 54,
   "id": "handed-field",
   "metadata": {},
   "outputs": [],
   "source": [
    "plt.rcParams[\"figure.figsize\"] = (20,3)"
   ]
  },
  {
   "cell_type": "markdown",
   "id": "parliamentary-publicity",
   "metadata": {},
   "source": [
    "# Execution - 1a.sql"
   ]
  },
  {
   "cell_type": "markdown",
   "id": "considered-ordering",
   "metadata": {},
   "source": [
    "### RL Optimizer"
   ]
  },
  {
   "cell_type": "code",
   "execution_count": 64,
   "id": "patent-highland",
   "metadata": {},
   "outputs": [
    {
     "name": "stdout",
     "output_type": "stream",
     "text": [
      "36 json files have been loaded!\n"
     ]
    }
   ],
   "source": [
    "dir_rl = cwd + '/records/with_shrink_imdb/1a_sql_with_diff_join_order/rl_optimizer'\n",
    "df_rl = pd.DataFrame() #initialize datafram\n",
    "df_rl = read_json_from_dir(dir_rl, df_rl)\n",
    "\n",
    "#df_rl"
   ]
  },
  {
   "cell_type": "markdown",
   "id": "united-channels",
   "metadata": {},
   "source": [
    "### DuckDB Optimizer"
   ]
  },
  {
   "cell_type": "code",
   "execution_count": 65,
   "id": "bound-submission",
   "metadata": {},
   "outputs": [
    {
     "name": "stdout",
     "output_type": "stream",
     "text": [
      "1 json files have been loaded!\n"
     ]
    }
   ],
   "source": [
    "dir_duckdb = cwd + '/records/with_shrink_imdb/1a_sql_with_diff_join_order/duckdb_optimizer'\n",
    "df_duckdb = pd.DataFrame() #initialize datafram\n",
    "df_duckdb = read_json_from_dir(dir_duckdb, df_duckdb)\n",
    "\n",
    "#df_duckdb"
   ]
  },
  {
   "cell_type": "code",
   "execution_count": 84,
   "id": "female-sussex",
   "metadata": {},
   "outputs": [
    {
     "data": {
      "image/png": "[encoded data removed]",
      "text/plain": [
       "<Figure size 1440x216 with 1 Axes>"
      ]
     },
     "metadata": {
      "needs_background": "light"
     },
     "output_type": "display_data"
    }
   ],
   "source": [
    "# style of hist\n",
    "#bin_width = (df_rl['result'].max() -  df_rl['result'].min())/30\n",
    "#bins = np.arange(df_rl['result'].min(), df_rl['result'].max(), bin_width).tolist()\n",
    "\n",
    "# returns n, bins, patches\n",
    "# plt.hist([df_rl['result'], df_duckdb['result']], bins, alpha=0.75, label=['RL Optimizer', 'DuckDB Optimizer'])\n",
    "plt.hist([df_rl['result'], df_duckdb['result']], alpha=0.75, label=['RL Optimizer', 'DuckDB Optimizer'])\n",
    "\n",
    "plt.xlabel('Runtime')\n",
    "plt.ylabel('Probability')\n",
    "plt.legend(loc='upper right')\n",
    "\n",
    "plt.grid(True)\n",
    "plt.show()"
   ]
  },
  {
   "cell_type": "code",
   "execution_count": null,
   "id": "general-university",
   "metadata": {},
   "outputs": [],
   "source": []
  }
 ],
 "metadata": {
  "kernelspec": {
   "display_name": "Python 3",
   "language": "python",
   "name": "python3"
  },
  "language_info": {
   "codemirror_mode": {
    "name": "ipython",
    "version": 3
   },
   "file_extension": ".py",
   "mimetype": "text/x-python",
   "name": "python",
   "nbconvert_exporter": "python",
   "pygments_lexer": "ipython3",
   "version": "3.8.1"
  }
 },
 "nbformat": 4,
 "nbformat_minor": 5
}
